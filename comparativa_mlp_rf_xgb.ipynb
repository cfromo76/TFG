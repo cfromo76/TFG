{
 "cells": [
  {
   "cell_type": "markdown",
   "id": "542c6017",
   "metadata": {},
   "source": [
    "# Comparativa de modelos: MLP, Random Forest y XGBoost\n",
    "Este cuaderno forma parte del TFG de Ingeniería Informática - UNIR."
   ]
  },
  {
   "cell_type": "code",
   "execution_count": null,
   "id": "2704acc0",
   "metadata": {},
   "outputs": [],
   "source": [
    "import pandas as pd\n",
    "import numpy as np\n",
    "from sklearn.model_selection import train_test_split\n",
    "from sklearn.preprocessing import StandardScaler\n",
    "from sklearn.neural_network import MLPClassifier\n",
    "from sklearn.ensemble import RandomForestClassifier\n",
    "from xgboost import XGBClassifier\n",
    "from sklearn.metrics import classification_report, confusion_matrix, ConfusionMatrixDisplay, roc_curve, auc\n",
    "import matplotlib.pyplot as plt\n",
    "import seaborn as sns"
   ]
  },
  {
   "cell_type": "markdown",
   "id": "97f017fe",
   "metadata": {},
   "source": [
    "### Cargar y preprocesar el dataset"
   ]
  },
  {
   "cell_type": "code",
   "execution_count": null,
   "id": "5d98689a",
   "metadata": {},
   "outputs": [],
   "source": [
    "df = pd.read_csv(\"dataset_acta_extendido_realista_1000.csv\", sep=\";\")\n",
    "X = df.drop(columns=[\"influencia\"])\n",
    "y = df[\"influencia\"]\n",
    "scaler = StandardScaler()\n",
    "X[\"G_diametro_pupilar_ambos_ojos_presentan\"] = scaler.fit_transform(X[[\"G_diametro_pupilar_ambos_ojos_presentan\"]])\n",
    "X_train, X_test, y_train, y_test = train_test_split(X, y, test_size=0.2, stratify=y, random_state=42)"
   ]
  },
  {
   "cell_type": "markdown",
   "id": "c8e53fcd",
   "metadata": {},
   "source": [
    "### Entrenar modelo MLP"
   ]
  },
  {
   "cell_type": "code",
   "execution_count": null,
   "id": "c88fefc4",
   "metadata": {},
   "outputs": [],
   "source": [
    "mlp = MLPClassifier(hidden_layer_sizes=(64, 32), activation='relu', max_iter=1000, random_state=42)\n",
    "mlp.fit(X_train, y_train)\n",
    "y_pred_mlp = mlp.predict(X_test)\n",
    "y_proba_mlp = mlp.predict_proba(X_test)[:, 1]\n",
    "print(confusion_matrix(y_test, y_pred_mlp))\n",
    "print(classification_report(y_test, y_pred_mlp))"
   ]
  },
  {
   "cell_type": "markdown",
   "id": "05ab5f06",
   "metadata": {},
   "source": [
    "### Entrenar modelo Random Forest"
   ]
  },
  {
   "cell_type": "code",
   "execution_count": null,
   "id": "309636d9",
   "metadata": {},
   "outputs": [],
   "source": [
    "rf = RandomForestClassifier(n_estimators=100, random_state=42)\n",
    "rf.fit(X_train, y_train)\n",
    "y_pred_rf = rf.predict(X_test)\n",
    "print(confusion_matrix(y_test, y_pred_rf))\n",
    "print(classification_report(y_test, y_pred_rf))"
   ]
  },
  {
   "cell_type": "markdown",
   "id": "58e56f81",
   "metadata": {},
   "source": [
    "### Entrenar modelo XGBoost"
   ]
  },
  {
   "cell_type": "code",
   "execution_count": null,
   "id": "6c51e3ba",
   "metadata": {},
   "outputs": [],
   "source": [
    "xgb = XGBClassifier(use_label_encoder=False, eval_metric='logloss', random_state=42)\n",
    "xgb.fit(X_train, y_train)\n",
    "y_pred_xgb = xgb.predict(X_test)\n",
    "print(confusion_matrix(y_test, y_pred_xgb))\n",
    "print(classification_report(y_test, y_pred_xgb))"
   ]
  },
  {
   "cell_type": "markdown",
   "id": "43aee925",
   "metadata": {},
   "source": [
    "### Curva ROC para MLP"
   ]
  },
  {
   "cell_type": "code",
   "execution_count": null,
   "id": "f1db7771",
   "metadata": {},
   "outputs": [],
   "source": [
    "fpr, tpr, _ = roc_curve(y_test, y_proba_mlp)\n",
    "roc_auc = auc(fpr, tpr)\n",
    "plt.figure(figsize=(6, 4))\n",
    "plt.plot(fpr, tpr, label=f\"MLP (AUC = {roc_auc:.2f})\", color=\"darkorange\")\n",
    "plt.plot([0, 1], [0, 1], linestyle=\"--\", color=\"gray\")\n",
    "plt.title(\"Curva ROC - MLP\")\n",
    "plt.xlabel(\"Tasa de falsos positivos\")\n",
    "plt.ylabel(\"Tasa de verdaderos positivos\")\n",
    "plt.legend(loc=\"lower right\")\n",
    "plt.grid(True)\n",
    "plt.tight_layout()\n",
    "plt.show()"
   ]
  }
 ],
 "metadata": {},
 "nbformat": 4,
 "nbformat_minor": 5
}
